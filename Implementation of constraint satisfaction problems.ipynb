{
  "nbformat": 4,
  "nbformat_minor": 0,
  "metadata": {
    "colab": {
      "name": "AI lab 3.ipynb",
      "provenance": []
    },
    "kernelspec": {
      "name": "python3",
      "display_name": "Python 3"
    }
  },
  "cells": [
    {
      "cell_type": "code",
      "metadata": {
        "id": "Sw0cdfmrqyhC"
      },
      "source": [
        "import time\r\n",
        "import itertools\r\n"
      ],
      "execution_count": 3,
      "outputs": []
    },
    {
      "cell_type": "code",
      "metadata": {
        "id": "jUbGuw7TrGor"
      },
      "source": [
        "def timeit(fn):\r\n",
        "  def wrapper():\r\n",
        "    start = time.clock()\r\n",
        "    ret = fn()\r\n",
        "    elapsed = time.clock() - start\r\n",
        "    print(\"%s took %2.fs\" % (fn.__name__, elapsed))\r\n",
        "    return ret\r\n",
        "  return wrapper"
      ],
      "execution_count": 2,
      "outputs": []
    },
    {
      "cell_type": "code",
      "metadata": {
        "id": "lWAeM7b2rQQi"
      },
      "source": [
        "@timeit\r\n",
        "def solve1():\r\n",
        "  for s in range(1, 10):\r\n",
        "    for e in range(0, 10):\r\n",
        "      for n in range(0, 10):\r\n",
        "        for d in range(0, 10):\r\n",
        "          for m in range(1, 10):\r\n",
        "            for o in range(0, 10):\r\n",
        "              for r in range(0, 10):\r\n",
        "                for y in range(0, 10):\r\n",
        "                    if distinct(s, e, n, d, m, o, r, y):\r\n",
        "                        send = 1000 * s + 100 * e + 10 * n + d\r\n",
        "                        more = 1000 * m + 100 * o + 10 * r + e\r\n",
        "                        money = 10000 * m + 1000 * o + 100 * n + 10 * e + y\r\n",
        "                        if send + more == money:\r\n",
        "                          return send, more, money"
      ],
      "execution_count": 4,
      "outputs": []
    },
    {
      "cell_type": "code",
      "metadata": {
        "id": "lsZ8WlThrn9I"
      },
      "source": [
        "def distinct(*args):\r\n",
        "  return len(set(args)) == len(args)"
      ],
      "execution_count": 5,
      "outputs": []
    },
    {
      "cell_type": "code",
      "metadata": {
        "id": "j3OvRneersca"
      },
      "source": [
        "@timeit\r\n",
        "def solve2():\r\n",
        "  #letters = input(\"Enter your string: \")\r\n",
        "  #letters1 = list(letters)\r\n",
        "  letters = ('s','e','n','d','m','o','r','e','m','o','n','e','y')\r\n",
        "  digits = range(10)\r\n",
        "  for perm in itertools.permutations(digits, len(letters)):\r\n",
        "    sol = dict(zip(letters, perm))\r\n",
        "    \r\n",
        "    if sol['s'] == 0 or sol['m'] == 0:\r\n",
        "      continue\r\n",
        "\r\n",
        "    send = 1000 * sol['s'] + 100 * sol['e'] + 10 * sol['n'] + sol['d']\r\n",
        "    more = 1000 * sol['m'] + 100 * sol['o'] + 10 * sol['r'] + sol['e']\r\n",
        "    money = 10000 * sol['m'] + 1000 * sol['o'] + 100 * sol['n'] + 10 * sol['e'] + sol['y']\r\n",
        "    if send + more == money:\r\n",
        "      return send, more, mon    "
      ],
      "execution_count": 30,
      "outputs": []
    },
    {
      "cell_type": "code",
      "metadata": {
        "id": "IHEH5Re1t6Ko"
      },
      "source": [
        ""
      ],
      "execution_count": 23,
      "outputs": []
    },
    {
      "cell_type": "code",
      "metadata": {
        "colab": {
          "base_uri": "https://localhost:8080/"
        },
        "id": "1ONGXCUDr6Ie",
        "outputId": "cb7de116-0681-4919-c0e2-49b2719d0565"
      },
      "source": [
        "print(solve1())"
      ],
      "execution_count": 7,
      "outputs": [
        {
          "output_type": "stream",
          "text": [
            "solve1 took 41s\n",
            "(9567, 1085, 10652)\n"
          ],
          "name": "stdout"
        }
      ]
    },
    {
      "cell_type": "code",
      "metadata": {
        "colab": {
          "base_uri": "https://localhost:8080/"
        },
        "id": "RZ4-l-ZIr_xx",
        "outputId": "c74ea5e3-c712-4b65-b8f2-1f07e286c39f"
      },
      "source": [
        "print(solve2())"
      ],
      "execution_count": 29,
      "outputs": [
        {
          "output_type": "stream",
          "text": [
            "solve2 took  0s\n",
            "None\n"
          ],
          "name": "stdout"
        }
      ]
    }
  ]
}